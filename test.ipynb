{
 "cells": [
  {
   "cell_type": "code",
   "execution_count": 1,
   "metadata": {},
   "outputs": [],
   "source": [
    "import time\n",
    "import matplotlib as plt\n",
    "from coffea import hist\n",
    "from coffea.analysis_objects import JaggedCandidateArray\n",
    "import coffea.processor as processor\n",
    "from awkward import JaggedArray\n",
    "import numpy as np\n",
    "import glob as glob\n",
    "import itertools\n",
    "import json"
   ]
  },
  {
   "cell_type": "code",
   "execution_count": 2,
   "metadata": {},
   "outputs": [],
   "source": [
    "# Look at ProcessorABC to see the expected methods and what they are supposed to do\n",
    "class FancyJECL2L3Processor(processor.ProcessorABC):\n",
    "    def __init__(self):\n",
    "        ptbins = np.array([200,250,300,350,400,450,500,\n",
    "                            600,700,800,900,1000,\n",
    "                            1500,2000,3000,4000,5000])\n",
    "        mbins = np.array([0,5,10,15,20,25,30,35,40,45,50,60,70,80,90,100,120,140,160,180,200,250,300,350,400,])\n",
    "        dataset_axis = hist.Cat(\"dataset\", \"Primary dataset\")\n",
    "        eta_axis = hist.Bin(\"eta\", r\"$\\eta$\", 20, -5, 5)\n",
    "        pt_reco_axis = hist.Bin(\"pt_reco_axis\", r\"$Reco p_{T}$ [GeV]\", ptbins)\n",
    "        pt_gen_axis = hist.Bin(\"pt_gen_axis\", r\"$Gen p_{T}$ [GeV]\", ptbins)\n",
    "        m_reco_axis = hist.Bin(\"m_reco_axis\", r\" Reco $m$ [GeV]\", mbins)\n",
    "        m_gen_axis = hist.Bin(\"m_gen_axis\", r\"Gen $m$ [GeV]\", mbins)\n",
    "        dr_axis = hist.Bin(\"dr\", r\"$\\Delta R$\", np.linspace(0, 8, 100) )\n",
    "        #gen_axis = hist.Bin(\"gen_axis\", r\"Gen?\", 0,100, 20)\n",
    "        #reco_axis = hist.Bin(\"reco_axis\", r\"Reco?\", 0,100, 20)\n",
    "\n",
    "        \n",
    "        self._accumulator = processor.dict_accumulator({\n",
    "            'h_dr_all':hist.Hist(\"Counts\", dataset_axis, dr_axis ),\n",
    "            'h_dr_reco':hist.Hist(\"Counts\", dataset_axis, dr_axis ),\n",
    "            'h_pt_m_reco_pre':hist.Hist(\"Counts\", dataset_axis, pt_reco_axis, m_reco_axis),\n",
    "            'h_pt_m_gen_pre':hist.Hist(\"Counts\", dataset_axis, pt_gen_axis, m_gen_axis),\n",
    "            'h_pt_m_reco':hist.Hist(\"Counts\", dataset_axis, pt_reco_axis, m_reco_axis),\n",
    "            'h_pt_m_gen':hist.Hist(\"Counts\", dataset_axis, pt_gen_axis, m_gen_axis),\n",
    "            'h_response':hist.Hist(\"Counts\", dataset_axis, pt_gen_axis, m_gen_axis, pt_reco_axis, m_reco_axis),\n",
    "            #'h_2dresponse':hist.Hist(\"Counts\", dataset_axis, gen_axis, reco_axis),\n",
    "            'cutflow': processor.defaultdict_accumulator(int),\n",
    "        })\n",
    "    \n",
    "    @property\n",
    "    def accumulator(self):\n",
    "        return self._accumulator\n",
    "    \n",
    "    def process(self, df):\n",
    "        output = self.accumulator.identity()\n",
    "\n",
    "#         print(\"1\")\n",
    "        dataset = df['dataset']\n",
    "        Jets = JaggedCandidateArray.candidatesfromcounts(\n",
    "            df['nFatJet'],\n",
    "            pt=df['FatJet_pt'],\n",
    "            eta=df['FatJet_eta'],\n",
    "            phi=df['FatJet_phi'],\n",
    "            mass=df['FatJet_mass'],\n",
    "            jetId=df['FatJet_jetId']\n",
    "            )        \n",
    "        \n",
    "        GenJets = JaggedCandidateArray.candidatesfromcounts(\n",
    "            df['nGenJetAK8'],\n",
    "            pt=df['GenJetAK8_pt'],\n",
    "            eta=df['GenJetAK8_eta'],\n",
    "            phi=df['GenJetAK8_phi'],\n",
    "            mass=df['GenJetAK8_mass']\n",
    "            )\n",
    "        \n",
    "        evtweights = df[\"Generator_weight\"].reshape(-1, 1).flatten()\n",
    "        output['cutflow']['all events'] += Jets.size\n",
    "\n",
    "        jetId_cut = (Jets.jetId > 0)        \n",
    "        Jets = Jets[jetId_cut]\n",
    "        output['cutflow']['>=1 with loose id'] += jetId_cut.any().sum()\n",
    "        twoJets_cut = (Jets.counts >= 2)        \n",
    "        output['cutflow']['>=2 reco jets'] += twoJets_cut.sum()\n",
    "        twoGens_cut = (GenJets.counts >= 2)\n",
    "        output['cutflow']['>=2 gen jets'] += twoGens_cut.sum()\n",
    "        \n",
    "\n",
    "        twoJets = Jets[twoJets_cut]\n",
    "        twoGenJets = GenJets[twoGens_cut]\n",
    "        dphireco = twoJets.p4[:,0].delta_phi( twoJets.p4[:,1] )\n",
    "        dphigen = twoGenJets.p4[:,0].delta_phi( twoGenJets.p4[:,1] )\n",
    "        dphi_index_reco =  (dphireco > 0.5*np.pi) & (dphireco < 1.5*np.pi)\n",
    "        dphi_index_gen =  (dphigen > 0.5*np.pi) & (dphigen < 1.5*np.pi)\n",
    "        #print('dphi_index shape', dphi_index.shape)\n",
    "        #print('Jets shape', Jets.shape)\n",
    "        #print('Gens shape', GenJets.shape)\n",
    "        output['cutflow']['dPhi > Pi/2'] += dphi_index_reco.sum()\n",
    "        output['cutflow']['dPhi Gen > Pi/2'] += dphi_index_gen.sum()\n",
    "        \n",
    "        pairing = Jets.p4[:,0:2].cross(GenJets.p4, nested=True)\n",
    "        metric = pairing.i0.delta_r(pairing.i1)\n",
    "#         print(\"pairing shape:\", pairing.shape)\n",
    "        output['h_dr_all'].fill(dataset=dataset, dr = metric.flatten().flatten() )        \n",
    "        \n",
    "        #print('pt asymm')\n",
    "        pt_asymm_index_reco = (twoJets.p4[:,0].pt -  twoJets.p4[:,1].pt )/(twoJets.p4[:,0].pt +  twoJets.p4[:,1].pt ) < 0.3\n",
    "        pt_asymm_index_gen = (twoGenJets.p4[:,0].pt -  twoGenJets.p4[:,1].pt )/(twoGenJets.p4[:,0].pt +  \n",
    "                                                                                twoGenJets.p4[:,1].pt ) < 0.3\n",
    "        output['cutflow']['pt asymmetry < 0.3'] += pt_asymm_index_reco.sum()\n",
    "        output['cutflow']['pt Asymmetry Gen < 0.3'] += pt_asymm_index_gen.sum()\n",
    "\n",
    "        twoJets = twoJets[pt_asymm_index_reco & dphi_index_reco]\n",
    "        twoGenJets = twoGenJets[pt_asymm_index_gen & dphi_index_gen]\n",
    "        \n",
    "#         print(\"Jets shape \", Jets.shape)\n",
    "#         print(\"GenJets shape \", GenJets.shape)\n",
    "        \n",
    "        output['h_pt_m_reco_pre'].fill(dataset = dataset, pt_reco_axis = twoJets.pt.flatten(),\n",
    "                                   m_reco_axis = twoJets.mass.flatten().flatten())\n",
    "        output['h_pt_m_gen_pre'].fill(dataset = dataset, pt_gen_axis = twoGenJets.pt.flatten(), \n",
    "                                  m_gen_axis = twoGenJets.mass.flatten())\n",
    "        \n",
    "        Jets = Jets[twoJets_cut & twoGens_cut]\n",
    "        GenJets = GenJets[twoJets_cut & twoGens_cut]\n",
    "        \n",
    "        dphireco = Jets.p4[:,0].delta_phi( Jets.p4[:,1] )\n",
    "        dphigen = GenJets.p4[:,0].delta_phi( GenJets.p4[:,1] )\n",
    "        dphi_index_reco = (dphireco > 0.5*np.pi) & (dphireco < 1.5*np.pi)\n",
    "        dphi_index_gen =  (dphigen > 0.5*np.pi) & (dphigen < 1.5*np.pi)\n",
    "        pt_asymm_index_reco = (Jets.p4[:,0].pt -  Jets.p4[:,1].pt )/(Jets.p4[:,0].pt +  Jets.p4[:,1].pt ) < 0.3\n",
    "        pt_asymm_index_gen = (GenJets.p4[:,0].pt -  GenJets.p4[:,1].pt )/(GenJets.p4[:,0].pt + GenJets.p4[:,1].pt ) < 0.3\n",
    "        \n",
    "        \n",
    "        Jets = Jets[pt_asymm_index_reco & dphi_index_reco & pt_asymm_index_gen & dphi_index_gen]\n",
    "        GenJets = GenJets[pt_asymm_index_reco & dphi_index_reco & pt_asymm_index_gen & dphi_index_gen]\n",
    "        \n",
    "        \n",
    "        #print(GenJets.shape, dphi_index_gen.shape, pt_asymm_index_gen.shape, Jets.shape)\n",
    "#         Jets = Jets[dphi_index_gen & pt_asymm_index_gen]\n",
    "    \n",
    "#         GenJets = GenJets[dphi_index_reco & pt_asymm_index_reco]\n",
    "\n",
    "        pairing = Jets.p4[:,0:2].cross(GenJets.p4, nested=True)\n",
    "        metric = pairing.i0.delta_r(pairing.i1)\n",
    "#         print(\"pairing shape:\", pairing.shape)\n",
    "        output['h_dr_reco'].fill(dataset=dataset, dr = metric.flatten().flatten() )\n",
    "        index_of_minimized = metric.argmin()\n",
    "        dr_cut = (metric[index_of_minimized] < 0.4)\n",
    "        best_pairings_that_pass_dr_cut = pairing[index_of_minimized][dr_cut]\n",
    "        genrecos = best_pairings_that_pass_dr_cut.flatten(axis=1)\n",
    "        #print(\"genrecos shape:\", genrecos.shape)\n",
    "        #ptresponse = genrecos.i0.pt / genrecos.i1.pt\n",
    "        \n",
    "        output['h_pt_m_reco'].fill(dataset = dataset, pt_reco_axis = genrecos.i0.pt.flatten(),\n",
    "                                   m_reco_axis = genrecos.i0.mass.flatten()\n",
    "                                  )\n",
    "        output['h_pt_m_gen'].fill(dataset = dataset, pt_gen_axis = genrecos.i1.pt.flatten(),\n",
    "                                   m_gen_axis = genrecos.i1.mass.flatten()\n",
    "                                  )\n",
    "        output['h_response'].fill(dataset = dataset, \n",
    "                                  pt_gen_axis = genrecos.i1.pt.flatten(), \n",
    "                                  pt_reco_axis = genrecos.i0.pt.flatten(),\n",
    "                                  m_gen_axis = genrecos.i1.mass.flatten(), \n",
    "                                  m_reco_axis = genrecos.i0.mass.flatten() )\n",
    "        \n",
    "        return output\n",
    "\n",
    "    def postprocess(self, accumulator):\n",
    "        return accumulator"
   ]
  },
  {
   "cell_type": "code",
   "execution_count": 3,
   "metadata": {
    "scrolled": true
   },
   "outputs": [
    {
     "data": {
      "application/vnd.jupyter.widget-view+json": {
       "model_id": "96919ea038b14373a07eb5545eaf4b3a",
       "version_major": 2,
       "version_minor": 0
      },
      "text/plain": [
       "HBox(children=(IntProgress(value=0, description='Preprocessing', max=1, style=ProgressStyle(description_width=…"
      ]
     },
     "metadata": {},
     "output_type": "display_data"
    },
    {
     "name": "stdout",
     "output_type": "stream",
     "text": [
      "\n"
     ]
    },
    {
     "data": {
      "application/vnd.jupyter.widget-view+json": {
       "model_id": "ee40110d56db4b489ea2dc1da0bc2a77",
       "version_major": 2,
       "version_minor": 0
      },
      "text/plain": [
       "HBox(children=(IntProgress(value=0, description='Processing', max=44, style=ProgressStyle(description_width='i…"
      ]
     },
     "metadata": {},
     "output_type": "display_data"
    },
    {
     "name": "stdout",
     "output_type": "stream",
     "text": [
      "\n",
      "{'h_dr_all': <Hist (dataset,dr) instance at 0x7f5d0fc6ee10>, 'h_dr_reco': <Hist (dataset,dr) instance at 0x7f5d0fc6ec50>, 'h_pt_m_reco_pre': <Hist (dataset,pt_reco_axis,m_reco_axis) instance at 0x7f5d0fd08fd0>, 'h_pt_m_gen_pre': <Hist (dataset,pt_gen_axis,m_gen_axis) instance at 0x7f5d0fd08d68>, 'h_pt_m_reco': <Hist (dataset,pt_reco_axis,m_reco_axis) instance at 0x7f5d0fc26630>, 'h_pt_m_gen': <Hist (dataset,pt_gen_axis,m_gen_axis) instance at 0x7f5d0fc26668>, 'h_response': <Hist (dataset,pt_gen_axis,m_gen_axis,pt_reco_axis,m_reco_axis) instance at 0x7f5d0fc265c0>, 'cutflow': defaultdict(<class 'int'>, {'all events': 18455107, '>=1 with loose id': 10092589, '>=2 reco jets': 8547127, '>=2 gen jets': 12036489, 'dPhi > Pi/2': 4264880, 'dPhi Gen > Pi/2': 6008833, 'pt asymmetry < 0.3': 8374722, 'pt Asymmetry Gen < 0.3': 11819408})}\n"
     ]
    }
   ],
   "source": [
    "   \n",
    "\n",
    "# Get the sample metadata\n",
    "samples = json.load( open('samples_qcdflat.json') )\n",
    "\n",
    "prefix = '/mnt/data/cms/store/mc/RunIIFall17NanoAODv5/'\n",
    "fileset = {}\n",
    "for sample in samples[\"samples\"]:    \n",
    "    name, xsec, nevents = sample['name'], sample['xsec'], sample['nevents']\n",
    "    fileset[name] = glob.glob(prefix + name + '/*/*/*/*.root')\n",
    "    \n",
    "    \n",
    "tstart = time.time() \n",
    "output = processor.run_uproot_job(fileset,\n",
    "                                  treename='Events',\n",
    "                                  processor_instance=FancyJECL2L3Processor(),\n",
    "                                  executor=processor.futures_executor,\n",
    "                                  executor_args={'workers': 4, 'flatten': True},\n",
    "                                  chunksize=500000,\n",
    "                                 )\n",
    "\n",
    "\n",
    "elapsed = time.time() - tstart\n",
    "print(output)"
   ]
  },
  {
   "cell_type": "code",
   "execution_count": 4,
   "metadata": {},
   "outputs": [
    {
     "name": "stdout",
     "output_type": "stream",
     "text": [
      "Processed 18455107 events in  75.30 s = 245074.18 Hz\n"
     ]
    }
   ],
   "source": [
    "print('Processed %d events in %6.2f s = %6.2f Hz' % (output['cutflow']['all events'], elapsed, output['cutflow']['all events']/elapsed))"
   ]
  },
  {
   "cell_type": "code",
   "execution_count": 5,
   "metadata": {},
   "outputs": [
    {
     "data": {
      "text/plain": [
       "defaultdict_accumulator(int,\n",
       "                        {'all events': 18455107,\n",
       "                         '>=1 with loose id': 10092589,\n",
       "                         '>=2 reco jets': 8547127,\n",
       "                         '>=2 gen jets': 12036489,\n",
       "                         'dPhi > Pi/2': 4264880,\n",
       "                         'dPhi Gen > Pi/2': 6008833,\n",
       "                         'pt asymmetry < 0.3': 8374722,\n",
       "                         'pt Asymmetry Gen < 0.3': 11819408})"
      ]
     },
     "execution_count": 5,
     "metadata": {},
     "output_type": "execute_result"
    }
   ],
   "source": [
    "output['cutflow']"
   ]
  },
  {
   "cell_type": "code",
   "execution_count": null,
   "metadata": {},
   "outputs": [],
   "source": []
  },
  {
   "cell_type": "code",
   "execution_count": 6,
   "metadata": {},
   "outputs": [],
   "source": [
    "import matplotlib.pyplot as plt"
   ]
  },
  {
   "cell_type": "markdown",
   "metadata": {},
   "source": [
    "### $m_u$ plot"
   ]
  },
  {
   "cell_type": "code",
   "execution_count": 7,
   "metadata": {},
   "outputs": [
    {
     "data": {
      "image/png": "[encoded data removed]",
      "text/plain": [
       "<Figure size 432x288 with 1 Axes>"
      ]
     },
     "metadata": {
      "needs_background": "light"
     },
     "output_type": "display_data"
    }
   ],
   "source": [
    "fig, ax = hist.plotgrid(output['h_pt_m_reco_pre'].sum(\"pt_reco_axis\"), overlay=\"dataset\", stack=False, density=True\n",
    "                    )\n",
    "plt.yscale(\"log\")\n",
    "for iax in ax.flatten():\n",
    "    iax.autoscale(axis='y')\n",
    "fig.show()"
   ]
  },
  {
   "cell_type": "markdown",
   "metadata": {},
   "source": [
    "### $p_T$ plot"
   ]
  },
  {
   "cell_type": "code",
   "execution_count": 8,
   "metadata": {
    "scrolled": true
   },
   "outputs": [
    {
     "data": {
      "image/png": "[encoded data removed]",
      "text/plain": [
       "<Figure size 432x288 with 1 Axes>"
      ]
     },
     "metadata": {
      "needs_background": "light"
     },
     "output_type": "display_data"
    }
   ],
   "source": [
    "fig, ax = hist.plotgrid(output['h_pt_m_reco_pre'].sum(\"m_reco_axis\"), overlay=\"dataset\", stack=False, density=True\n",
    "                    )\n",
    "plt.yscale(\"log\")\n",
    "for iax in ax.flatten():\n",
    "    iax.autoscale(axis='y')\n",
    "fig.show()"
   ]
  },
  {
   "cell_type": "markdown",
   "metadata": {},
   "source": [
    "### $\\Delta R$ between reco and closest gen jet"
   ]
  },
  {
   "cell_type": "code",
   "execution_count": 9,
   "metadata": {
    "scrolled": true
   },
   "outputs": [
    {
     "data": {
      "image/png": "[encoded data removed]",
      "text/plain": [
       "<Figure size 432x288 with 1 Axes>"
      ]
     },
     "metadata": {
      "needs_background": "light"
     },
     "output_type": "display_data"
    }
   ],
   "source": [
    "fig, ax = hist.plotgrid(output['h_dr_reco'], overlay=\"dataset\", stack=False, density=True\n",
    "                    )\n",
    "plt.yscale(\"log\")\n",
    "for iax in ax.flatten():\n",
    "    iax.autoscale(axis='y')\n",
    "fig.show()"
   ]
  },
  {
   "cell_type": "markdown",
   "metadata": {},
   "source": [
    "### Observed $p_T$ versus $m_u$"
   ]
  },
  {
   "cell_type": "code",
   "execution_count": 10,
   "metadata": {
    "scrolled": true
   },
   "outputs": [
    {
     "data": {
      "image/png": "[encoded data removed]",
      "text/plain": [
       "<Figure size 432x288 with 2 Axes>"
      ]
     },
     "metadata": {
      "needs_background": "light"
     },
     "output_type": "display_data"
    }
   ],
   "source": [
    "fig, ax, _ = hist.plot2d(output['h_pt_m_reco_pre'].sum(\"dataset\"), xaxis=\"pt_reco_axis\", density=True)\n"
   ]
  },
  {
   "cell_type": "markdown",
   "metadata": {},
   "source": [
    "### Get the histograms, divide by bin width"
   ]
  },
  {
   "cell_type": "code",
   "execution_count": 11,
   "metadata": {
    "scrolled": true
   },
   "outputs": [
    {
     "data": {
      "text/plain": [
       "<matplotlib.image.AxesImage at 0x7f5d0e42c2b0>"
      ]
     },
     "execution_count": 11,
     "metadata": {},
     "output_type": "execute_result"
    },
    {
     "data": {
      "image/png": "[encoded data removed]",
      "text/plain": [
       "<Figure size 432x288 with 1 Axes>"
      ]
     },
     "metadata": {
      "needs_background": "light"
     },
     "output_type": "display_data"
    }
   ],
   "source": [
    "h_pt_m_reco_pre_vals = output['h_pt_m_reco_pre'].sum(\"dataset\").values()[()]\n",
    "pt_edges = output['h_pt_m_reco_pre'].sum(\"dataset\").axis(\"pt_reco_axis\").edges()\n",
    "m_edges = output['h_pt_m_reco_pre'].sum(\"dataset\").axis(\"m_reco_axis\").edges()\n",
    "h_pt_m_reco_pre_norm = h_pt_m_reco_pre_vals / np.diff(m_edges)/ np.diff(pt_edges)[:, np.newaxis] \n",
    "plt.imshow(h_pt_m_reco_pre_norm, cmap=\"Blues\")\n"
   ]
  },
  {
   "cell_type": "markdown",
   "metadata": {},
   "source": [
    "### Plot the raw numbers with normalization for $m_u$"
   ]
  },
  {
   "cell_type": "code",
   "execution_count": 12,
   "metadata": {},
   "outputs": [
    {
     "data": {
      "text/plain": [
       "[<matplotlib.lines.Line2D at 0x7f5d0e3f1c18>]"
      ]
     },
     "execution_count": 12,
     "metadata": {},
     "output_type": "execute_result"
    },
    {
     "data": {
      "image/png": "[encoded data removed]",
      "text/plain": [
       "<Figure size 432x288 with 1 Axes>"
      ]
     },
     "metadata": {
      "needs_background": "light"
     },
     "output_type": "display_data"
    }
   ],
   "source": [
    "plt.plot( m_edges[:-1], np.sum(h_pt_m_reco_pre_norm, axis=0) )"
   ]
  },
  {
   "cell_type": "markdown",
   "metadata": {},
   "source": [
    "### Plot the raw numbers with normalization for $p_T$"
   ]
  },
  {
   "cell_type": "code",
   "execution_count": 13,
   "metadata": {},
   "outputs": [
    {
     "data": {
      "text/plain": [
       "[<matplotlib.lines.Line2D at 0x7f5d0e352668>]"
      ]
     },
     "execution_count": 13,
     "metadata": {},
     "output_type": "execute_result"
    },
    {
     "data": {
      "image/png": "[encoded data removed]",
      "text/plain": [
       "<Figure size 432x288 with 1 Axes>"
      ]
     },
     "metadata": {
      "needs_background": "light"
     },
     "output_type": "display_data"
    }
   ],
   "source": [
    "plt.plot( pt_edges[:-1], np.sum(h_pt_m_reco_pre_norm, axis=1) )"
   ]
  },
  {
   "cell_type": "markdown",
   "metadata": {},
   "source": [
    "### Get response matrix, divide by bin widths"
   ]
  },
  {
   "cell_type": "code",
   "execution_count": 14,
   "metadata": {},
   "outputs": [],
   "source": [
    "h = output['h_response'].values()[('QCD_Pt-15to7000_TuneCP5_Flat_13TeV_pythia8',)]"
   ]
  },
  {
   "cell_type": "code",
   "execution_count": 15,
   "metadata": {},
   "outputs": [],
   "source": [
    "pt_reco_edges = output['h_response'].axis(\"pt_reco_axis\").edges()\n",
    "m_reco_edges = output['h_response'].axis(\"m_reco_axis\").edges()\n",
    "pt_gen_edges = output['h_response'].axis(\"pt_gen_axis\").edges()\n",
    "m_gen_edges = output['h_response'].axis(\"m_gen_axis\").edges()\n",
    "\n",
    "h = h / np.diff( pt_reco_edges )[:, np.newaxis]\n",
    "h = h / np.diff( m_reco_edges )[:, np.newaxis, np.newaxis]\n",
    "h = h / np.diff( pt_gen_edges )[:, np.newaxis]\n",
    "h = h / np.diff( m_gen_edges )[:, np.newaxis, np.newaxis]"
   ]
  },
  {
   "cell_type": "markdown",
   "metadata": {},
   "source": [
    "### Plot 2d projection of 4d response matrix"
   ]
  },
  {
   "cell_type": "code",
   "execution_count": 16,
   "metadata": {},
   "outputs": [],
   "source": [
    "h2 = h.reshape(  16*24, 16*24 )"
   ]
  },
  {
   "cell_type": "code",
   "execution_count": 17,
   "metadata": {
    "scrolled": true
   },
   "outputs": [
    {
     "data": {
      "text/plain": [
       "<matplotlib.image.AxesImage at 0x7f5d0e335748>"
      ]
     },
     "execution_count": 17,
     "metadata": {},
     "output_type": "execute_result"
    },
    {
     "data": {
      "image/png": "[encoded data removed]",
      "text/plain": [
       "<Figure size 432x288 with 1 Axes>"
      ]
     },
     "metadata": {
      "needs_background": "light"
     },
     "output_type": "display_data"
    }
   ],
   "source": [
    "plt.imshow(h2, cmap=\"Blues\")"
   ]
  },
  {
   "cell_type": "markdown",
   "metadata": {},
   "source": [
    "### Plot all reco distributions, unrolled. "
   ]
  },
  {
   "cell_type": "code",
   "execution_count": 18,
   "metadata": {
    "scrolled": true
   },
   "outputs": [
    {
     "data": {
      "text/plain": [
       "<BarContainer object of 384 artists>"
      ]
     },
     "execution_count": 18,
     "metadata": {},
     "output_type": "execute_result"
    },
    {
     "data": {
      "image/png": "[encoded data removed]",
      "text/plain": [
       "<Figure size 432x288 with 1 Axes>"
      ]
     },
     "metadata": {
      "needs_background": "light"
     },
     "output_type": "display_data"
    }
   ],
   "source": [
    "plt.bar( np.arange(0,h2.shape[0]), np.sum(h2, axis=0), width=-1, align='edge')"
   ]
  },
  {
   "cell_type": "markdown",
   "metadata": {},
   "source": [
    "### Plot all gen distributions, unrolled. "
   ]
  },
  {
   "cell_type": "code",
   "execution_count": 19,
   "metadata": {
    "scrolled": false
   },
   "outputs": [
    {
     "data": {
      "text/plain": [
       "<BarContainer object of 384 artists>"
      ]
     },
     "execution_count": 19,
     "metadata": {},
     "output_type": "execute_result"
    },
    {
     "data": {
      "image/png": "[encoded data removed]",
      "text/plain": [
       "<Figure size 432x288 with 1 Axes>"
      ]
     },
     "metadata": {
      "needs_background": "light"
     },
     "output_type": "display_data"
    }
   ],
   "source": [
    "plt.bar( np.arange(0,h2.shape[1]),  np.sum(h2, axis=1), width=-1, align='edge' )\n",
    "#plt.xlim(8*24,9*24)\n",
    "#plt.ylim(0,0.25)"
   ]
  },
  {
   "cell_type": "markdown",
   "metadata": {},
   "source": [
    "### Plot response matrix normalized per column"
   ]
  },
  {
   "cell_type": "code",
   "execution_count": 20,
   "metadata": {},
   "outputs": [],
   "source": [
    "colnorm = np.sum(h2, axis=0)\n",
    "hnorm = h2 / np.where( colnorm > 0, colnorm, 1.0 )"
   ]
  },
  {
   "cell_type": "code",
   "execution_count": 21,
   "metadata": {},
   "outputs": [
    {
     "data": {
      "text/plain": [
       "<matplotlib.image.AxesImage at 0x7f5d0dd0eac8>"
      ]
     },
     "execution_count": 21,
     "metadata": {},
     "output_type": "execute_result"
    },
    {
     "data": {
      "image/png": "[encoded data removed]",
      "text/plain": [
       "<Figure size 432x288 with 1 Axes>"
      ]
     },
     "metadata": {
      "needs_background": "light"
     },
     "output_type": "display_data"
    }
   ],
   "source": [
    "plt.imshow(hnorm, cmap=\"Blues\", vmax=0.5)"
   ]
  },
  {
   "cell_type": "code",
   "execution_count": null,
   "metadata": {},
   "outputs": [],
   "source": []
  }
 ],
 "metadata": {
  "kernelspec": {
   "display_name": "Python 3",
   "language": "python",
   "name": "python3"
  },
  "language_info": {
   "codemirror_mode": {
    "name": "ipython",
    "version": 3
   },
   "file_extension": ".py",
   "mimetype": "text/x-python",
   "name": "python",
   "nbconvert_exporter": "python",
   "pygments_lexer": "ipython3",
   "version": "3.6.8"
  }
 },
 "nbformat": 4,
 "nbformat_minor": 2
}

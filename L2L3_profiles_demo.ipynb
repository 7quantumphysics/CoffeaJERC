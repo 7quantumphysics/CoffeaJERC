{
 "cells": [
  {
   "cell_type": "markdown",
   "id": "expected-product",
   "metadata": {},
   "source": [
    "# JEC profile plots\n",
    "\n",
    "Poor man's coffea 0.7.1 mix of https://github.com/cms-jet/CoffeaJERC/blob/master/genL2L3.ipynb and [nanoevents.ipynb](https://github.com/CoffeaTeam/coffea/blob/master/binder/nanoevents.ipynb) to illustrate profile plots"
   ]
  },
  {
   "cell_type": "code",
   "execution_count": null,
   "id": "imperial-hundred",
   "metadata": {},
   "outputs": [],
   "source": [
    "import awkward as ak\n",
    "import numpy as np\n",
    "import time\n",
    "from coffea.nanoevents import NanoEventsFactory, NanoAODSchema\n",
    "\n",
    "fname = \"root://cmsxrootd.fnal.gov//store/mc/RunIISummer19UL17NanoAOD/QCD_Pt-15to7000_TuneCP5_Flat2018_13TeV_pythia8/NANOAODSIM/JMECustomTuples_106X_mc2017_realistic_v6-v1/280000/0CEC4EFC-9CBD-B64C-8721-29D0CBB1F0AA.root\"\n",
    "events = NanoEventsFactory.from_root(fname, schemaclass=NanoAODSchema).events()"
   ]
  },
  {
   "cell_type": "code",
   "execution_count": null,
   "id": "optional-oklahoma",
   "metadata": {},
   "outputs": [],
   "source": [
    "from coffea import processor, hist\n",
    "class FancyJECL2L3Processor(processor.ProcessorABC):\n",
    "    def __init__(self):\n",
    "        dataset_axis = hist.Cat(\"dataset\", \"Primary dataset\")\n",
    "        eta_axis = hist.Bin(\"eta\", r\"$\\eta$\", 20, -5, 5)\n",
    "        pt_axis = hist.Bin(\"pt\", r\"$p_{T}$ [GeV]\", \n",
    "                           np.array([5,10,15,20,25,30,35,40,45,50,60,70,80,90,\n",
    "                                     100,120,140,160,180,\n",
    "                                     200,250,300,350,400,450,500,\n",
    "                                     600,700,800,900,1000,\n",
    "                                     1500,2000,3000,4000,5000]))\n",
    "        dr_axis = hist.Bin(\"dr\", r\"$\\delta (\\eta)$\", 20, 0., 1)\n",
    "        m_axis = hist.Bin(\"m\", r\"$p_{T}$ [GeV]\", 200, 0, 500)\n",
    "        r_axis = hist.Bin(\"r\", \"RECO / GEN response\", 200, 0, 5)\n",
    "        \n",
    "        self._accumulator = processor.dict_accumulator({\n",
    "            'pt':hist.Hist(\"Counts\", dataset_axis, pt_axis),\n",
    "            'eta':hist.Hist(\"Counts\", dataset_axis, eta_axis),\n",
    "            'dr':hist.Hist(\"Counts\", dataset_axis, dr_axis),\n",
    "            'r_pt_ptveta':hist.Hist(\"Counts\", dataset_axis, pt_axis, eta_axis, r_axis),\n",
    "            'r_m_ptveta':hist.Hist(\"Counts\", dataset_axis, pt_axis, eta_axis, r_axis),\n",
    "            'r_m_ptvm':hist.Hist(\"Counts\", dataset_axis, pt_axis, m_axis, r_axis),\n",
    "            'cutflow': processor.defaultdict_accumulator(int),\n",
    "        })\n",
    "    \n",
    "    @property\n",
    "    def accumulator(self):\n",
    "        return self._accumulator\n",
    "    \n",
    "    def process(self, events):\n",
    "        output = self.accumulator.identity()\n",
    "        output['cutflow']['all events'] += len(events)\n",
    "        #print(len(events))\n",
    "        \n",
    "        selectedEvents = events[\n",
    "            (ak.num(events.Jet) > 2)\n",
    "        ]\n",
    "\n",
    "        #leading jet\n",
    "        #print(selectedEvents.Jet[:,0])\n",
    "        #leading two jets\n",
    "        jet = selectedEvents.Jet[:,0:2]\n",
    "        jet = ak.flatten(jet)\n",
    "        #only with genmatch\n",
    "        jet = jet[~ak.is_none(jet.matched_gen)]\n",
    "        #only with good deltaR match\n",
    "        jet = jet[jet.delta_r(jet.matched_gen)<0.2]\n",
    "        \n",
    "        ptresponse = jet.pt/jet.matched_gen.pt\n",
    "        \n",
    "        output['dr'].fill(dataset=selectedEvents.metadata[\"dataset\"],\n",
    "                            dr=jet.delta_r(jet.matched_gen))\n",
    "        output['pt'].fill(dataset=selectedEvents.metadata[\"dataset\"],\n",
    "                            pt=jet.pt)\n",
    "        output['eta'].fill(dataset=selectedEvents.metadata[\"dataset\"], \n",
    "                                 eta=jet.eta)\n",
    "        output['r_pt_ptveta'].fill( dataset=selectedEvents.metadata[\"dataset\"], pt=jet.pt, eta=jet.eta, r=ptresponse)\n",
    "        \n",
    "        return output\n",
    "\n",
    "    def postprocess(self, accumulator):\n",
    "        return accumulator\n",
    "   "
   ]
  },
  {
   "cell_type": "code",
   "execution_count": null,
   "id": "wound-robinson",
   "metadata": {},
   "outputs": [],
   "source": [
    "samples = {\n",
    "    \"QCDFlat\": [fname]\n",
    "}\n",
    "tstart = time.time() \n",
    "output = processor.run_uproot_job(\n",
    "    samples,\n",
    "    \"Events\",\n",
    "    FancyJECL2L3Processor(),\n",
    "    processor.iterative_executor,\n",
    "    {\"schema\": NanoAODSchema},\n",
    ")\n",
    "elapsed = time.time() - tstart\n",
    "print(output)\n",
    "print(\"Events/s:\", output['cutflow']['all events']/elapsed)"
   ]
  },
  {
   "cell_type": "code",
   "execution_count": null,
   "id": "coordinate-credit",
   "metadata": {},
   "outputs": [],
   "source": [
    "import mplhep as hep\n",
    "import matplotlib.pyplot as plt"
   ]
  },
  {
   "cell_type": "code",
   "execution_count": null,
   "id": "copyrighted-alpha",
   "metadata": {},
   "outputs": [],
   "source": [
    "ax = hist.plotgrid(output['eta'], overlay=\"dataset\", stack=False, density=True)\n",
    "EtaBinNums = len(output['eta'].values()[('QCDFlat',)])\n",
    "for i in range(BinNums):\n",
    "    print('Bin #' + str(i) + ': '+ str(output['r_pt_ptveta'].axis('eta')[i]))"
   ]
  },
  {
   "cell_type": "code",
   "execution_count": null,
   "id": "straight-mitchell",
   "metadata": {},
   "outputs": [],
   "source": [
    "ax = hist.plotgrid(output['pt'], overlay=\"dataset\", stack=False, density=True)\n",
    "PtBinNums = len(output['pt'].values()[('QCDFlat',)])\n",
    "for i in range(PtBinNums):\n",
    "    print('Bin #' + str(i) + ': '+ str(output['r_pt_ptveta'].axis('pt')[i]))"
   ]
  },
  {
   "cell_type": "code",
   "execution_count": null,
   "id": "sustainable-stanley",
   "metadata": {},
   "outputs": [],
   "source": [
    "EtaBins = output['r_pt_ptveta'].axis('eta')\n",
    "print(EtaBins)\n",
    "for bins in EtaBins:\n",
    "    title = r'$\\eta$ range ' + str(bins)\n",
    "    ax = hist.plot2d(output['r_pt_ptveta'].sum('dataset').integrate('eta', bins),xaxis='pt')\n",
    "    ax.set_title(title)"
   ]
  },
  {
   "cell_type": "code",
   "execution_count": null,
   "id": "theoretical-blowing",
   "metadata": {
    "scrolled": true
   },
   "outputs": [],
   "source": [
    "for bins in EtaBins:\n",
    "    PtBinNum = output['r_pt_ptveta'].axis('pt')[15]\n",
    "    title = r'$\\eta$ range ' + str(bins) + r'; $p_T$ range ' + str(PtBinNum)\n",
    "    ax = hist.plot1d(output['r_pt_ptveta'].sum('dataset').integrate('eta', bins).integrate('pt',PtBinNum))\n",
    "    ax.set_title(title)\n",
    "    plt.show()"
   ]
  },
  {
   "cell_type": "code",
   "execution_count": null,
   "id": "indian-correlation",
   "metadata": {},
   "outputs": [],
   "source": [
    "h = output['r_pt_ptveta'].sum('dataset').integrate('eta', output['r_pt_ptveta'].axis('eta')[10])\n",
    "xaxis='pt'\n",
    "xaxis = h.axis(xaxis)\n",
    "yaxis = h.axes()[1]\n",
    "xoverflow='none'\n",
    "xedges = xaxis.edges(overflow=xoverflow)\n",
    "xcenters = xaxis.centers(overflow=xoverflow)\n",
    "vals = list(h.values().values())\n",
    "\n",
    "avs = [np.average(h.axes()[1].centers(), weights=b) if np.sum(b)>0 else 0. for b in vals[0]]\n",
    "#dummy\n",
    "avs_err = [0.]*len(avs)\n",
    "\n",
    "fig, ax = plt.subplots(1, 1)\n",
    "\n",
    "\n",
    "ax.set_xlabel(xaxis.label)\n",
    "ax.set_ylabel(yaxis.label)\n",
    "ax.set_xlim(xedges[0], xedges[-1])\n",
    "ax.set_ylim(0.5, 1.5)\n",
    "\n",
    "errbar = ax.errorbar(x=xcenters, y=avs, yerr=avs_err)\n",
    "plt.xscale(\"log\")\n",
    "\n"
   ]
  },
  {
   "cell_type": "markdown",
   "id": "referenced-laser",
   "metadata": {},
   "source": [
    "Would be awesome to have a kind of projection function that gives \"profile plots\", e.g. \n",
    "* showing arithmetic mean +/- error, \n",
    "* median +/- errror (or interquartile range), \n",
    "* mode (e.g. from a Gaussian fit)\n",
    "* violin plots etc."
   ]
  },
  {
   "cell_type": "code",
   "execution_count": null,
   "id": "round-madison",
   "metadata": {},
   "outputs": [],
   "source": []
  }
 ],
 "metadata": {
  "kernelspec": {
   "display_name": "Python 3",
   "language": "python",
   "name": "python3"
  },
  "language_info": {
   "codemirror_mode": {
    "name": "ipython",
    "version": 3
   },
   "file_extension": ".py",
   "mimetype": "text/x-python",
   "name": "python",
   "nbconvert_exporter": "python",
   "pygments_lexer": "ipython3",
   "version": "3.8.8"
  }
 },
 "nbformat": 4,
 "nbformat_minor": 5
}

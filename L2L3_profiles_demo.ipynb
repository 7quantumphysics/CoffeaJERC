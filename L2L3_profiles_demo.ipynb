{
 "cells": [
  {
   "cell_type": "markdown",
   "id": "expected-product",
   "metadata": {},
   "source": [
    "# JEC profile plots\n",
    "\n",
    "Poor man's coffea 0.7.1 mix of https://github.com/cms-jet/CoffeaJERC/blob/master/genL2L3.ipynb and [nanoevents.ipynb](https://github.com/CoffeaTeam/coffea/blob/master/binder/nanoevents.ipynb) to illustrate profile plots"
   ]
  },
  {
   "cell_type": "code",
   "execution_count": 1,
   "id": "imperial-hundred",
   "metadata": {},
   "outputs": [],
   "source": [
    "import awkward as ak\n",
    "import numpy as np\n",
    "import time\n",
    "from coffea.nanoevents import NanoEventsFactory, NanoAODSchema\n",
    "\n",
    "fname = \"step1_NANO_NoClusterThreshold_ButOnlyGenMatchBelow5GeV_54.root\"\n",
    "events = NanoEventsFactory.from_root(fname, schemaclass=NanoAODSchema).events()"
   ]
  },
  {
   "cell_type": "code",
   "execution_count": 2,
   "id": "optional-oklahoma",
   "metadata": {},
   "outputs": [],
   "source": [
    "from coffea import processor, hist\n",
    "class FancyJECL2L3Processor(processor.ProcessorABC):\n",
    "    def __init__(self):\n",
    "        dataset_axis = hist.Cat(\"dataset\", \"Primary dataset\")\n",
    "        eta_axis = hist.Bin(\"eta\", r\"$\\eta$\", 20, -5, 5)\n",
    "        pt_axis = hist.Bin(\"pt\", r\"$p_{T}$ [GeV]\", \n",
    "                           np.array([5,10,15,20,25,30,35,40,45,50,60,70,80,90,\n",
    "                                     100,120,140,160,180,\n",
    "                                     200,250,300,350,400,450,500,\n",
    "                                     600,700,800,900,1000,\n",
    "                                     1500,2000,3000,4000,5000]))\n",
    "        dr_axis = hist.Bin(\"dr\", r\"$\\delta (\\eta)$\", 20, 0., 1)\n",
    "        m_axis = hist.Bin(\"m\", r\"$p_{T}$ [GeV]\", 200, 0, 500)\n",
    "        r_axis = hist.Bin(\"r\", \"RECO / GEN response\", 200, 0, 5)\n",
    "        \n",
    "        self._accumulator = processor.dict_accumulator({\n",
    "            'pt':hist.Hist(\"Counts\", dataset_axis, pt_axis),\n",
    "            'eta':hist.Hist(\"Counts\", dataset_axis, eta_axis),\n",
    "            'dr':hist.Hist(\"Counts\", dataset_axis, dr_axis),\n",
    "            'r_pt_ptveta':hist.Hist(\"Counts\", dataset_axis, pt_axis, eta_axis, r_axis),\n",
    "            'r_m_ptveta':hist.Hist(\"Counts\", dataset_axis, pt_axis, eta_axis, r_axis),\n",
    "            'r_m_ptvm':hist.Hist(\"Counts\", dataset_axis, pt_axis, m_axis, r_axis),\n",
    "            'cutflow': processor.defaultdict_accumulator(int),\n",
    "        })\n",
    "    \n",
    "    @property\n",
    "    def accumulator(self):\n",
    "        return self._accumulator\n",
    "    \n",
    "    def process(self, events):\n",
    "        output = self.accumulator.identity()\n",
    "        output['cutflow']['all events'] += len(events)\n",
    "        #print(len(events))\n",
    "        \n",
    "        selectedEvents = events[\n",
    "            (ak.num(events.Jet) > 2)\n",
    "        ]\n",
    "\n",
    "        #leading jet\n",
    "        #print(selectedEvents.Jet[:,0])\n",
    "        #leading two jets\n",
    "        jet = selectedEvents.Jet[:,0:2]\n",
    "        jet = ak.flatten(jet)\n",
    "        #only with genmatch\n",
    "        jet = jet[~ak.is_none(jet.matched_gen)]\n",
    "        #only with good deltaR match\n",
    "        jet = jet[jet.delta_r(jet.matched_gen)<0.2]\n",
    "        \n",
    "        ptresponse = jet.pt/jet.matched_gen.pt\n",
    "        \n",
    "        output['dr'].fill(dataset=selectedEvents.metadata[\"dataset\"],\n",
    "                            dr=jet.delta_r(jet.matched_gen))\n",
    "        output['pt'].fill(dataset=selectedEvents.metadata[\"dataset\"],\n",
    "                            pt=jet.pt)\n",
    "        output['eta'].fill(dataset=selectedEvents.metadata[\"dataset\"], \n",
    "                                 eta=jet.eta)\n",
    "        output['r_pt_ptveta'].fill( dataset=selectedEvents.metadata[\"dataset\"], pt=jet.pt, eta=jet.eta, r=ptresponse)\n",
    "        \n",
    "        return output\n",
    "\n",
    "    def postprocess(self, accumulator):\n",
    "        return accumulator\n",
    "   "
   ]
  },
  {
   "cell_type": "code",
   "execution_count": 3,
   "id": "wound-robinson",
   "metadata": {},
   "outputs": [
    {
     "data": {
      "application/vnd.jupyter.widget-view+json": {
       "model_id": "fa4bc0dc1ed44e09ae340229b57436b2",
       "version_major": 2,
       "version_minor": 0
      },
      "text/plain": [
       "HBox(children=(HTML(value='Preprocessing'), FloatProgress(value=0.0, max=1.0), HTML(value='')))"
      ]
     },
     "metadata": {},
     "output_type": "display_data"
    },
    {
     "name": "stdout",
     "output_type": "stream",
     "text": [
      "\n"
     ]
    },
    {
     "data": {
      "application/vnd.jupyter.widget-view+json": {
       "model_id": "05881e72eac2466eb1e20358b169258f",
       "version_major": 2,
       "version_minor": 0
      },
      "text/plain": [
       "HBox(children=(HTML(value='Processing'), FloatProgress(value=0.0, max=1.0), HTML(value='')))"
      ]
     },
     "metadata": {},
     "output_type": "display_data"
    },
    {
     "name": "stdout",
     "output_type": "stream",
     "text": [
      "\n",
      "{'pt': <Hist (dataset,pt) instance at 0x7f6e7bbd7bb0>, 'eta': <Hist (dataset,eta) instance at 0x7f6e79c27640>, 'dr': <Hist (dataset,dr) instance at 0x7f6e79c27b50>, 'r_pt_ptveta': <Hist (dataset,pt,eta,r) instance at 0x7f6e79c27b80>, 'r_m_ptveta': <Hist (dataset,pt,eta,r) instance at 0x7f6e79c27bb0>, 'r_m_ptvm': <Hist (dataset,pt,m,r) instance at 0x7f6e79c27be0>, 'cutflow': defaultdict_accumulator(<class 'int'>, {'all events': 84900})}\n",
      "Events/s: 8018.158680307206\n"
     ]
    }
   ],
   "source": [
    "samples = {\n",
    "    \"QCDFlat\": [fname]\n",
    "}\n",
    "tstart = time.time() \n",
    "result = processor.run_uproot_job(\n",
    "    samples,\n",
    "    \"Events\",\n",
    "    FancyJECL2L3Processor(),\n",
    "    processor.iterative_executor,\n",
    "    {\"schema\": NanoAODSchema},\n",
    ")\n",
    "elapsed = time.time() - tstart\n",
    "print(result)\n",
    "print(\"Events/s:\", result['cutflow']['all events']/elapsed)"
   ]
  },
  {
   "cell_type": "code",
   "execution_count": 4,
   "id": "baking-specification",
   "metadata": {},
   "outputs": [
    {
     "data": {
      "image/png": "[encoded data removed]",
      "text/plain": [
       "<Figure size 432x288 with 2 Axes>"
      ]
     },
     "metadata": {
      "needs_background": "light"
     },
     "output_type": "display_data"
    }
   ],
   "source": [
    "ax = hist.plot2d(result['r_pt_ptveta'].sum('dataset').integrate('eta', result['r_pt_ptveta'].axis('eta')[10]),xaxis='pt')\n"
   ]
  },
  {
   "cell_type": "code",
   "execution_count": 7,
   "id": "theoretical-blowing",
   "metadata": {},
   "outputs": [
    {
     "data": {
      "image/png": "[encoded data removed]",
      "text/plain": [
       "<Figure size 432x288 with 1 Axes>"
      ]
     },
     "metadata": {
      "needs_background": "light"
     },
     "output_type": "display_data"
    }
   ],
   "source": [
    "ax = hist.plot1d(result['r_pt_ptveta'].sum('dataset').integrate('eta', result['r_pt_ptveta'].axis('eta')[10]).integrate('pt',result['r_pt_ptveta'].axis('pt')[15]))"
   ]
  },
  {
   "cell_type": "code",
   "execution_count": 8,
   "id": "indian-correlation",
   "metadata": {},
   "outputs": [
    {
     "data": {
      "image/png": "[encoded data removed]",
      "text/plain": [
       "<Figure size 432x288 with 1 Axes>"
      ]
     },
     "metadata": {
      "needs_background": "light"
     },
     "output_type": "display_data"
    }
   ],
   "source": [
    "h = result['r_pt_ptveta'].sum('dataset').integrate('eta', result['r_pt_ptveta'].axis('eta')[10])\n",
    "xaxis='pt'\n",
    "xaxis = h.axis(xaxis)\n",
    "yaxis = h.axes()[1]\n",
    "xoverflow='none'\n",
    "xedges = xaxis.edges(overflow=xoverflow)\n",
    "xcenters = xaxis.centers(overflow=xoverflow)\n",
    "vals = list(h.values().values())\n",
    "\n",
    "avs = [np.average(h.axes()[1].centers(), weights=b) if np.sum(b)>0 else 0. for b in vals[0]]\n",
    "#dummy\n",
    "avs_err = [0.]*len(avs)\n",
    "\n",
    "\n",
    "import mplhep as hep\n",
    "import matplotlib.pyplot as plt\n",
    "fig, ax = plt.subplots(1, 1)\n",
    "\n",
    "\n",
    "ax.set_xlabel(xaxis.label)\n",
    "ax.set_ylabel(yaxis.label)\n",
    "ax.set_xlim(xedges[0], xedges[-1])\n",
    "ax.set_ylim(0.5, 1.5)\n",
    "\n",
    "errbar = ax.errorbar(x=xcenters, y=avs, yerr=avs_err)\n",
    "plt.xscale(\"log\")\n",
    "\n"
   ]
  },
  {
   "cell_type": "markdown",
   "id": "referenced-laser",
   "metadata": {},
   "source": [
    "Would be awesome to have a kind of projection function that gives \"profile plots\", e.g. \n",
    "* showing arithmetic mean +/- error, \n",
    "* median +/- errror (or interquartile range), \n",
    "* mode (e.g. from a Gaussian fit)\n",
    "* violin plots etc."
   ]
  },
  {
   "cell_type": "code",
   "execution_count": null,
   "id": "round-madison",
   "metadata": {},
   "outputs": [],
   "source": []
  }
 ],
 "metadata": {
  "kernelspec": {
   "display_name": "Python 3",
   "language": "python",
   "name": "python3"
  },
  "language_info": {
   "codemirror_mode": {
    "name": "ipython",
    "version": 3
   },
   "file_extension": ".py",
   "mimetype": "text/x-python",
   "name": "python",
   "nbconvert_exporter": "python",
   "pygments_lexer": "ipython3",
   "version": "3.8.8"
  }
 },
 "nbformat": 4,
 "nbformat_minor": 5
}
